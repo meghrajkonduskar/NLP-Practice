{
 "cells": [
  {
   "cell_type": "markdown",
   "id": "2124acb2",
   "metadata": {},
   "source": [
    "# Word Embedding"
   ]
  },
  {
   "cell_type": "code",
   "execution_count": 1,
   "id": "9a5b4b81",
   "metadata": {},
   "outputs": [],
   "source": [
    "import numpy as np\n",
    "from keras.preprocessing.text import one_hot\n",
    "from tensorflow.keras.layers import Embedding\n",
    "from tensorflow.keras.preprocessing.sequence import pad_sequences\n",
    "from tensorflow.keras.models import Sequential"
   ]
  },
  {
   "cell_type": "code",
   "execution_count": 2,
   "id": "bbc5eb60",
   "metadata": {},
   "outputs": [
    {
     "data": {
      "text/plain": [
       "['the glass of milk',\n",
       " 'the cup of tea',\n",
       " 'I am a good boy',\n",
       " 'I am a good developer',\n",
       " 'understand the meaning of words',\n",
       " 'your videos are good']"
      ]
     },
     "execution_count": 2,
     "metadata": {},
     "output_type": "execute_result"
    }
   ],
   "source": [
    "sent = [\"the glass of milk\", \n",
    "       \"the cup of tea\",\n",
    "       \"I am a good boy\",\n",
    "       \"I am a good developer\",\n",
    "       \"understand the meaning of words\",\n",
    "        \"your videos are good\"]\n",
    "sent"
   ]
  },
  {
   "cell_type": "code",
   "execution_count": 3,
   "id": "3157287b",
   "metadata": {},
   "outputs": [],
   "source": [
    "voc_size = 10000"
   ]
  },
  {
   "cell_type": "markdown",
   "id": "eff682c8",
   "metadata": {},
   "source": [
    "## One Hot Representation"
   ]
  },
  {
   "cell_type": "code",
   "execution_count": 4,
   "id": "f071f16d",
   "metadata": {},
   "outputs": [
    {
     "name": "stdout",
     "output_type": "stream",
     "text": [
      "[[7338, 9810, 254, 4321], [7338, 5506, 254, 9239], [308, 3302, 1477, 2681, 8983], [308, 3302, 1477, 2681, 4161], [5024, 7338, 4366, 254, 2172], [3859, 3864, 1082, 2681]]\n"
     ]
    }
   ],
   "source": [
    "onehot_repr = [one_hot(word,voc_size) for word in sent]\n",
    "print(onehot_repr)"
   ]
  },
  {
   "cell_type": "markdown",
   "id": "e47779cc",
   "metadata": {},
   "source": [
    "## Word Embedding Representation"
   ]
  },
  {
   "cell_type": "code",
   "execution_count": 5,
   "id": "e597a9c1",
   "metadata": {},
   "outputs": [
    {
     "name": "stdout",
     "output_type": "stream",
     "text": [
      "[[   0    0    0    0 7338 9810  254 4321]\n",
      " [   0    0    0    0 7338 5506  254 9239]\n",
      " [   0    0    0  308 3302 1477 2681 8983]\n",
      " [   0    0    0  308 3302 1477 2681 4161]\n",
      " [   0    0    0 5024 7338 4366  254 2172]\n",
      " [   0    0    0    0 3859 3864 1082 2681]]\n"
     ]
    }
   ],
   "source": [
    "sent_lengths = 8\n",
    "embedded_docs = pad_sequences(onehot_repr, padding=\"pre\", maxlen=sent_lengths)\n",
    "print(embedded_docs)"
   ]
  },
  {
   "cell_type": "code",
   "execution_count": 6,
   "id": "7d7476b4",
   "metadata": {},
   "outputs": [],
   "source": [
    "dim = 10"
   ]
  },
  {
   "cell_type": "code",
   "execution_count": 7,
   "id": "66e06f63",
   "metadata": {},
   "outputs": [],
   "source": [
    "model = Sequential()\n",
    "model.add(Embedding(voc_size,dim,input_length=sent_lengths))\n",
    "model.compile(\"adam\", \"mse\")"
   ]
  },
  {
   "cell_type": "code",
   "execution_count": 8,
   "id": "4f08e8a0",
   "metadata": {},
   "outputs": [
    {
     "name": "stdout",
     "output_type": "stream",
     "text": [
      "Model: \"sequential\"\n",
      "_________________________________________________________________\n",
      " Layer (type)                Output Shape              Param #   \n",
      "=================================================================\n",
      " embedding (Embedding)       (None, 8, 10)             100000    \n",
      "                                                                 \n",
      "=================================================================\n",
      "Total params: 100000 (390.62 KB)\n",
      "Trainable params: 100000 (390.62 KB)\n",
      "Non-trainable params: 0 (0.00 Byte)\n",
      "_________________________________________________________________\n"
     ]
    }
   ],
   "source": [
    "model.summary()"
   ]
  },
  {
   "cell_type": "code",
   "execution_count": 9,
   "id": "516d3971",
   "metadata": {},
   "outputs": [
    {
     "data": {
      "text/plain": [
       "array([   0,    0,    0,    0, 7338, 9810,  254, 4321])"
      ]
     },
     "execution_count": 9,
     "metadata": {},
     "output_type": "execute_result"
    }
   ],
   "source": [
    "embedded_docs[0]"
   ]
  },
  {
   "cell_type": "code",
   "execution_count": 10,
   "id": "7c44bbd6",
   "metadata": {
    "scrolled": true
   },
   "outputs": [
    {
     "name": "stdout",
     "output_type": "stream",
     "text": [
      "1/1 [==============================] - 0s 84ms/step\n",
      "[[-0.00364469 -0.00601213  0.00324316  0.04274101 -0.01200644  0.01716233\n",
      "  -0.03339497 -0.02411114 -0.03585697  0.03284723]\n",
      " [-0.00364469 -0.00601213  0.00324316  0.04274101 -0.01200644  0.01716233\n",
      "  -0.03339497 -0.02411114 -0.03585697  0.03284723]\n",
      " [-0.00364469 -0.00601213  0.00324316  0.04274101 -0.01200644  0.01716233\n",
      "  -0.03339497 -0.02411114 -0.03585697  0.03284723]\n",
      " [-0.00364469 -0.00601213  0.00324316  0.04274101 -0.01200644  0.01716233\n",
      "  -0.03339497 -0.02411114 -0.03585697  0.03284723]\n",
      " [-0.0306612  -0.0038766   0.00132865  0.03428889 -0.01391967  0.00906748\n",
      "   0.01373957 -0.04994048 -0.04641762 -0.01421662]\n",
      " [ 0.00231536  0.04843319  0.02058661  0.03740182 -0.00232104  0.00721301\n",
      "   0.03016471  0.02800473  0.03146173 -0.03825809]\n",
      " [-0.02261137 -0.00895966 -0.00303614 -0.03599832  0.04634165  0.03256069\n",
      "   0.04077398  0.01048644  0.03390707 -0.04967196]\n",
      " [-0.0182876   0.03138968  0.0076889  -0.02666131  0.03908943 -0.01715308\n",
      "   0.01139582 -0.0192439   0.00824518 -0.02135234]]\n"
     ]
    }
   ],
   "source": [
    "print(model.predict(embedded_docs)[0])"
   ]
  }
 ],
 "metadata": {
  "kernelspec": {
   "display_name": "Python 3 (ipykernel)",
   "language": "python",
   "name": "python3"
  },
  "language_info": {
   "codemirror_mode": {
    "name": "ipython",
    "version": 3
   },
   "file_extension": ".py",
   "mimetype": "text/x-python",
   "name": "python",
   "nbconvert_exporter": "python",
   "pygments_lexer": "ipython3",
   "version": "3.11.5"
  }
 },
 "nbformat": 4,
 "nbformat_minor": 5
}
