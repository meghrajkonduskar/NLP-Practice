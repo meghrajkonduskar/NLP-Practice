{
 "cells": [
  {
   "cell_type": "markdown",
   "id": "95bdb1c2",
   "metadata": {},
   "source": [
    "# Word2Vec"
   ]
  },
  {
   "cell_type": "code",
   "execution_count": 1,
   "id": "4740d7cd",
   "metadata": {},
   "outputs": [],
   "source": [
    "import re\n",
    "import nltk\n",
    "from paragraph import paragraph\n",
    "from gensim.models import Word2Vec\n",
    "from nltk.corpus import stopwords"
   ]
  },
  {
   "cell_type": "code",
   "execution_count": 2,
   "id": "bb89160e",
   "metadata": {},
   "outputs": [],
   "source": [
    "text = re.sub(r'\\[[0-9]*\\]', ' ', paragraph)\n",
    "text = re.sub(r'\\s+', ' ', text)\n",
    "text = text.lower()\n",
    "text = re.sub(r'\\d', ' ', text)\n",
    "text = re.sub(r'\\s+', ' ', text)"
   ]
  },
  {
   "cell_type": "code",
   "execution_count": 3,
   "id": "5660db06",
   "metadata": {},
   "outputs": [],
   "source": [
    "sentences = nltk.sent_tokenize(text)\n",
    "sentences = [nltk.word_tokenize(sentence) for sentence in sentences]\n",
    "\n",
    "for i in range(len(sentences)):\n",
    "    sentences[i] = [word for word in sentences[i] if word not in stopwords.words(\"english\")]"
   ]
  },
  {
   "cell_type": "code",
   "execution_count": 4,
   "id": "8e4f7f39",
   "metadata": {
    "scrolled": false
   },
   "outputs": [
    {
     "data": {
      "text/plain": [
       "['.',\n",
       " ',',\n",
       " 'india',\n",
       " 'vision',\n",
       " 'must',\n",
       " 'nation',\n",
       " 'world',\n",
       " 'us',\n",
       " 'three',\n",
       " 'freedom',\n",
       " 'respect',\n",
       " 'see',\n",
       " 'first',\n",
       " 'power',\n",
       " 'yet',\n",
       " '’',\n",
       " 'strength',\n",
       " 'worked',\n",
       " '?',\n",
       " 'life',\n",
       " 'believe',\n",
       " 'dr.',\n",
       " 'great',\n",
       " 'minds',\n",
       " 'one',\n",
       " 'years',\n",
       " 'history',\n",
       " 'developed',\n",
       " 'conquered',\n",
       " 'protect',\n",
       " 'others.that',\n",
       " 'war',\n",
       " 'nurture',\n",
       " 'independence',\n",
       " 'build',\n",
       " 'free',\n",
       " 'tried',\n",
       " 'got',\n",
       " 'started',\n",
       " 'way',\n",
       " 'enforce',\n",
       " 'took',\n",
       " 'culture',\n",
       " 'turks',\n",
       " 'visions',\n",
       " 'people',\n",
       " 'come',\n",
       " 'invaded',\n",
       " 'captured',\n",
       " 'lands',\n",
       " 'alexander',\n",
       " 'onwards',\n",
       " 'greeks',\n",
       " 'moguls',\n",
       " 'land',\n",
       " 'portuguese',\n",
       " 'british',\n",
       " 'french',\n",
       " 'dutch',\n",
       " 'came',\n",
       " 'looted',\n",
       " 'done',\n",
       " 'anyone',\n",
       " 'grabbed',\n",
       " 'second',\n",
       " 'career',\n",
       " 'development',\n",
       " 'respects',\n",
       " 'military',\n",
       " 'also',\n",
       " 'economic',\n",
       " 'go',\n",
       " 'hand-in-hand',\n",
       " 'good',\n",
       " 'fortune',\n",
       " 'vikram',\n",
       " 'sarabhai',\n",
       " 'dept',\n",
       " 'space',\n",
       " 'professor',\n",
       " 'satish',\n",
       " 'dhawan',\n",
       " 'succeeded',\n",
       " 'brahm',\n",
       " 'prakash',\n",
       " 'father',\n",
       " 'nuclear',\n",
       " 'material',\n",
       " 'lucky',\n",
       " 'closely',\n",
       " 'consider',\n",
       " 'opportunity',\n",
       " 'four',\n",
       " 'strong',\n",
       " 'stands',\n",
       " 'fifty',\n",
       " 'unless',\n",
       " 'developing',\n",
       " 'milestones',\n",
       " 'among',\n",
       " 'top',\n",
       " 'nations',\n",
       " 'terms',\n",
       " 'gdp',\n",
       " 'percent',\n",
       " 'growth',\n",
       " 'rate',\n",
       " 'areas',\n",
       " 'poverty',\n",
       " 'levels',\n",
       " 'falling',\n",
       " 'achievements',\n",
       " 'globally',\n",
       " 'recognised',\n",
       " 'today',\n",
       " 'lack',\n",
       " 'self-confidence',\n",
       " 'self-reliant',\n",
       " 'self-assured',\n",
       " 'incorrect',\n",
       " 'third',\n",
       " 'stand',\n",
       " 'time']"
      ]
     },
     "execution_count": 4,
     "metadata": {},
     "output_type": "execute_result"
    }
   ],
   "source": [
    "model = Word2Vec(sentences, min_count=1)\n",
    "words = model.wv.index_to_key\n",
    "words"
   ]
  },
  {
   "cell_type": "code",
   "execution_count": 5,
   "id": "9c3c9e1b",
   "metadata": {},
   "outputs": [],
   "source": [
    "vector = model.wv['war']"
   ]
  },
  {
   "cell_type": "code",
   "execution_count": 6,
   "id": "3a3ab5af",
   "metadata": {},
   "outputs": [
    {
     "data": {
      "text/plain": [
       "array([-0.00219905, -0.00970885,  0.00929075,  0.00203636, -0.00116388,\n",
       "       -0.00551955, -0.0085126 , -0.00989383,  0.00894091, -0.00250522,\n",
       "        0.00459427, -0.00452481,  0.00995189,  0.00366171,  0.00103129,\n",
       "       -0.00403834,  0.00122027, -0.00265451,  0.00735284,  0.00447542,\n",
       "        0.00099955,  0.0034782 ,  0.00372712, -0.00680036,  0.00893243,\n",
       "        0.00173499, -0.00579935,  0.00866838, -0.00129286,  0.00818304,\n",
       "       -0.0014927 ,  0.00698649,  0.00273452, -0.00436226, -0.00374683,\n",
       "        0.00919046,  0.00159645, -0.00599784,  0.00034776, -0.00195135,\n",
       "        0.00159242, -0.00771525,  0.00738298,  0.00131083,  0.00787099,\n",
       "        0.00445568, -0.00439675,  0.00376054, -0.0006357 , -0.00984484,\n",
       "        0.00825004,  0.00964326,  0.00965426, -0.00379659, -0.00844202,\n",
       "        0.00483581, -0.00765107,  0.00853567,  0.00275977,  0.00560496,\n",
       "        0.00611362,  0.00046455, -0.00209463,  0.000778  ,  0.00983559,\n",
       "       -0.00711718, -0.00155743, -0.00235984,  0.00487084,  0.00645515,\n",
       "       -0.0041403 ,  0.00361816, -0.00447258,  0.00326611,  0.0081738 ,\n",
       "        0.00361967, -0.0045711 , -0.00301938,  0.00787179,  0.00959686,\n",
       "        0.00580789, -0.00326881, -0.00183876, -0.00624998, -0.00429521,\n",
       "        0.00336554, -0.00648911, -0.00661903,  0.00811393,  0.0095074 ,\n",
       "        0.00814451,  0.00150699, -0.00880124, -0.00759764,  0.0015789 ,\n",
       "       -0.00952675, -0.00741688,  0.00203283, -0.00292885, -0.00916266],\n",
       "      dtype=float32)"
      ]
     },
     "execution_count": 6,
     "metadata": {},
     "output_type": "execute_result"
    }
   ],
   "source": [
    "vector"
   ]
  },
  {
   "cell_type": "code",
   "execution_count": 7,
   "id": "1018c0d9",
   "metadata": {},
   "outputs": [],
   "source": [
    "similar = model.wv.most_similar('war')"
   ]
  },
  {
   "cell_type": "code",
   "execution_count": 8,
   "id": "8dca6fa0",
   "metadata": {},
   "outputs": [
    {
     "data": {
      "text/plain": [
       "[('rate', 0.1720738261938095),\n",
       " ('’', 0.15882465243339539),\n",
       " ('professor', 0.15752418339252472),\n",
       " ('material', 0.1459616720676422),\n",
       " ('great', 0.14304539561271667),\n",
       " ('unless', 0.14020974934101105),\n",
       " ('us', 0.12788502871990204),\n",
       " ('looted', 0.12448825687170029),\n",
       " ('self-reliant', 0.12188233435153961),\n",
       " ('worked', 0.11109073460102081)]"
      ]
     },
     "execution_count": 8,
     "metadata": {},
     "output_type": "execute_result"
    }
   ],
   "source": [
    "similar"
   ]
  }
 ],
 "metadata": {
  "kernelspec": {
   "display_name": "Python 3 (ipykernel)",
   "language": "python",
   "name": "python3"
  },
  "language_info": {
   "codemirror_mode": {
    "name": "ipython",
    "version": 3
   },
   "file_extension": ".py",
   "mimetype": "text/x-python",
   "name": "python",
   "nbconvert_exporter": "python",
   "pygments_lexer": "ipython3",
   "version": "3.11.5"
  }
 },
 "nbformat": 4,
 "nbformat_minor": 5
}
