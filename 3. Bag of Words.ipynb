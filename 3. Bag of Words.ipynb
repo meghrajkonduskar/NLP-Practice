{
 "cells": [
  {
   "cell_type": "markdown",
   "id": "37c344dc",
   "metadata": {},
   "source": [
    "# Bag of Words"
   ]
  },
  {
   "cell_type": "markdown",
   "id": "8f855332",
   "metadata": {},
   "source": [
    "A bag of words is a representation of text that describes the occurrence of words within a document. We just keep track of word counts and disregard the grammatical details and the word order. It is called a “bag” of words because any information about the order or structure of words in the document is discarded."
   ]
  },
  {
   "cell_type": "code",
   "execution_count": 1,
   "id": "0aba1645",
   "metadata": {},
   "outputs": [],
   "source": [
    "import re\n",
    "import nltk\n",
    "from nltk.corpus import stopwords\n",
    "from nltk.stem.porter import PorterStemmer\n",
    "from nltk.stem import WordNetLemmatizer\n",
    "from paragraph import paragraph"
   ]
  },
  {
   "cell_type": "code",
   "execution_count": 2,
   "id": "780dff3a",
   "metadata": {},
   "outputs": [],
   "source": [
    "ps = PorterStemmer()\n",
    "wordnet = WordNetLemmatizer()\n",
    "sentences = nltk.sent_tokenize(paragraph)\n",
    "corpus_stem = []\n",
    "corpus_wordnet = []\n",
    "for i in range(len(sentences)):\n",
    "    review = re.sub('[^a-zA-Z]', ' ', sentences[i])\n",
    "    review = review.lower()\n",
    "    review = review.split()\n",
    "    stemming = [ps.stem(word) for word in review if not word in set(stopwords.words(\"english\"))]\n",
    "    lemma = [wordnet.lemmatize(word) for word in review if not word in set(stopwords.words(\"english\"))]\n",
    "    stemming = \" \".join(stemming)\n",
    "    lemma = \" \".join(lemma)\n",
    "    corpus_stem.append(stemming)\n",
    "    corpus_wordnet.append(lemma)"
   ]
  },
  {
   "cell_type": "code",
   "execution_count": 3,
   "id": "9291f45e",
   "metadata": {},
   "outputs": [],
   "source": [
    "from sklearn.feature_extraction.text import CountVectorizer\n",
    "cv_stem = CountVectorizer(max_features = 1500)\n",
    "X_stem = cv_stem.fit_transform(corpus_stem).toarray()"
   ]
  },
  {
   "cell_type": "code",
   "execution_count": 4,
   "id": "ab982a0b",
   "metadata": {},
   "outputs": [],
   "source": [
    "cv_lemma = CountVectorizer(max_features = 1500)\n",
    "X_lemma = cv_lemma.fit_transform(corpus_wordnet).toarray()"
   ]
  },
  {
   "cell_type": "code",
   "execution_count": 5,
   "id": "336be100",
   "metadata": {},
   "outputs": [
    {
     "data": {
      "text/plain": [
       "array([[0, 0, 0, ..., 0, 0, 0],\n",
       "       [0, 0, 0, ..., 1, 1, 0],\n",
       "       [0, 1, 0, ..., 0, 0, 0],\n",
       "       ...,\n",
       "       [0, 0, 0, ..., 0, 0, 0],\n",
       "       [0, 0, 0, ..., 0, 0, 0],\n",
       "       [0, 0, 0, ..., 0, 0, 0]], dtype=int64)"
      ]
     },
     "execution_count": 5,
     "metadata": {},
     "output_type": "execute_result"
    }
   ],
   "source": [
    "X_stem"
   ]
  },
  {
   "cell_type": "code",
   "execution_count": 6,
   "id": "015e6adc",
   "metadata": {},
   "outputs": [
    {
     "data": {
      "text/plain": [
       "array([[0, 0, 0, ..., 0, 0, 0],\n",
       "       [0, 0, 0, ..., 1, 1, 0],\n",
       "       [0, 1, 0, ..., 0, 0, 0],\n",
       "       ...,\n",
       "       [0, 0, 0, ..., 0, 0, 0],\n",
       "       [0, 0, 0, ..., 0, 0, 0],\n",
       "       [0, 0, 0, ..., 0, 0, 0]], dtype=int64)"
      ]
     },
     "execution_count": 6,
     "metadata": {},
     "output_type": "execute_result"
    }
   ],
   "source": [
    "X_lemma"
   ]
  }
 ],
 "metadata": {
  "kernelspec": {
   "display_name": "Python 3 (ipykernel)",
   "language": "python",
   "name": "python3"
  },
  "language_info": {
   "codemirror_mode": {
    "name": "ipython",
    "version": 3
   },
   "file_extension": ".py",
   "mimetype": "text/x-python",
   "name": "python",
   "nbconvert_exporter": "python",
   "pygments_lexer": "ipython3",
   "version": "3.11.5"
  }
 },
 "nbformat": 4,
 "nbformat_minor": 5
}
